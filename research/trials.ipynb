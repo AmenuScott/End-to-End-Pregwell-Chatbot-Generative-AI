{
 "cells": [
  {
   "cell_type": "code",
   "execution_count": 1,
   "id": "8ef1b5ad",
   "metadata": {},
   "outputs": [
    {
     "name": "stdout",
     "output_type": "stream",
     "text": [
      "Hello, World!\n"
     ]
    }
   ],
   "source": [
    "print(\"Hello, World!\")"
   ]
  },
  {
   "cell_type": "code",
   "execution_count": 2,
   "id": "e33da7ae",
   "metadata": {},
   "outputs": [
    {
     "data": {
      "text/plain": [
       "'c:\\\\Users\\\\chapt\\\\OneDrive\\\\Desktop\\\\pregchatbot\\\\End-to-End-Pregwell-Chatbot-Generative-AI\\\\research'"
      ]
     },
     "execution_count": 2,
     "metadata": {},
     "output_type": "execute_result"
    }
   ],
   "source": [
    "%pwd"
   ]
  },
  {
   "cell_type": "code",
   "execution_count": 3,
   "id": "e7c5c2e7",
   "metadata": {},
   "outputs": [],
   "source": [
    "import os\n",
    "os.chdir(\"../\") "
   ]
  },
  {
   "cell_type": "code",
   "execution_count": 4,
   "id": "39db8cf0",
   "metadata": {},
   "outputs": [
    {
     "data": {
      "text/plain": [
       "'c:\\\\Users\\\\chapt\\\\OneDrive\\\\Desktop\\\\pregchatbot\\\\End-to-End-Pregwell-Chatbot-Generative-AI'"
      ]
     },
     "execution_count": 4,
     "metadata": {},
     "output_type": "execute_result"
    }
   ],
   "source": [
    "%pwd"
   ]
  },
  {
   "cell_type": "code",
   "execution_count": 5,
   "id": "11e9aea5",
   "metadata": {},
   "outputs": [],
   "source": [
    "from langchain.document_loaders import PyPDFLoader, DirectoryLoader\n",
    "from langchain.text_splitter import RecursiveCharacterTextSplitter"
   ]
  },
  {
   "cell_type": "code",
   "execution_count": 6,
   "id": "5cbbdf00",
   "metadata": {},
   "outputs": [],
   "source": [
    "#Extract Data from PDF File\n",
    "# Tabnine: Edit | Test | Explain | Document | Ask\n",
    "def load_pdf_file(data):\n",
    "    loader = DirectoryLoader(data,\n",
    "                            glob=\"*.pdf\",\n",
    "                            loader_cls=PyPDFLoader,)\n",
    "    documents = loader.load()\n",
    "\n",
    "    return documents"
   ]
  },
  {
   "cell_type": "code",
   "execution_count": 7,
   "id": "2a97aecd",
   "metadata": {},
   "outputs": [],
   "source": [
    "extracted_data = load_pdf_file(data=\"Data/\")"
   ]
  },
  {
   "cell_type": "code",
   "execution_count": 9,
   "id": "ca6f2383",
   "metadata": {},
   "outputs": [],
   "source": [
    "#extracted_data   "
   ]
  },
  {
   "cell_type": "code",
   "execution_count": 10,
   "id": "d21b1a53",
   "metadata": {},
   "outputs": [],
   "source": [
    "#Split the Data into Text Chunks\n",
    "#Tabnine: Edit | Test | Explain | Document | Ask\n",
    "def text_split(extracted_data):\n",
    "    text_splitter = RecursiveCharacterTextSplitter(\n",
    "        chunk_size=500,\n",
    "        chunk_overlap=20,\n",
    "    )\n",
    "    texts_chunks= text_splitter.split_documents(extracted_data)\n",
    "\n",
    "    return texts_chunks"
   ]
  },
  {
   "cell_type": "code",
   "execution_count": 11,
   "id": "7c53757b",
   "metadata": {},
   "outputs": [
    {
     "name": "stdout",
     "output_type": "stream",
     "text": [
      "Length of Text Chunks 1270\n"
     ]
    }
   ],
   "source": [
    "text_chunks=text_split(extracted_data)\n",
    "print(\"Length of Text Chunks\", len(text_chunks))"
   ]
  },
  {
   "cell_type": "code",
   "execution_count": 13,
   "id": "e857136a",
   "metadata": {},
   "outputs": [],
   "source": [
    "#text_chunks"
   ]
  },
  {
   "cell_type": "code",
   "execution_count": 18,
   "id": "bc1dc6cf",
   "metadata": {},
   "outputs": [],
   "source": [
    "from langchain.embeddings import HuggingFaceEmbeddings"
   ]
  },
  {
   "cell_type": "code",
   "execution_count": 16,
   "id": "0e7cdca7",
   "metadata": {},
   "outputs": [],
   "source": [
    "#Download the Embeddings from HuggingFace\n",
    "#Tabnine: Edit | Test | Explain | Document | Ask\n",
    "def download_hugging_face_embeddings():\n",
    "    embeddings = HuggingFaceEmbeddings(\n",
    "        model_name=\"sentence-transformers/all-MiniLM-L6-v2\",\n",
    "    )\n",
    "    return embeddings"
   ]
  },
  {
   "cell_type": "code",
   "execution_count": 19,
   "id": "36088f5c",
   "metadata": {},
   "outputs": [
    {
     "name": "stderr",
     "output_type": "stream",
     "text": [
      "C:\\Users\\chapt\\AppData\\Local\\Temp\\ipykernel_24036\\2758542165.py:4: LangChainDeprecationWarning: The class `HuggingFaceEmbeddings` was deprecated in LangChain 0.2.2 and will be removed in 1.0. An updated version of the class exists in the :class:`~langchain-huggingface package and should be used instead. To use it run `pip install -U :class:`~langchain-huggingface` and import as `from :class:`~langchain_huggingface import HuggingFaceEmbeddings``.\n",
      "  embeddings = HuggingFaceEmbeddings(\n",
      "c:\\Users\\chapt\\miniconda3\\envs\\pregwell\\lib\\site-packages\\tqdm\\auto.py:21: TqdmWarning: IProgress not found. Please update jupyter and ipywidgets. See https://ipywidgets.readthedocs.io/en/stable/user_install.html\n",
      "  from .autonotebook import tqdm as notebook_tqdm\n"
     ]
    }
   ],
   "source": [
    "embeddings = download_hugging_face_embeddings()"
   ]
  },
  {
   "cell_type": "code",
   "execution_count": 20,
   "id": "ba7e1848",
   "metadata": {},
   "outputs": [
    {
     "name": "stdout",
     "output_type": "stream",
     "text": [
      "Length 384\n"
     ]
    }
   ],
   "source": [
    "query_results = embeddings.embed_query(\"Hello world\")\n",
    "print(\"Length\",len(query_results))"
   ]
  },
  {
   "cell_type": "code",
   "execution_count": 22,
   "id": "ba356b1b",
   "metadata": {},
   "outputs": [],
   "source": [
    "#query_results  "
   ]
  },
  {
   "cell_type": "code",
   "execution_count": 23,
   "id": "d20f513c",
   "metadata": {},
   "outputs": [
    {
     "data": {
      "text/plain": [
       "True"
      ]
     },
     "execution_count": 23,
     "metadata": {},
     "output_type": "execute_result"
    }
   ],
   "source": [
    "from dotenv import load_dotenv\n",
    "load_dotenv()"
   ]
  },
  {
   "cell_type": "code",
   "execution_count": 24,
   "id": "6a2a33c8",
   "metadata": {},
   "outputs": [],
   "source": [
    "PINECONE_API_KEY = os.environ.get(\"PINECONE_API_KEY\")\n",
    "OPENAI_API_KEY = os.environ.get(\"OPENAI_API_KEY\")"
   ]
  },
  {
   "cell_type": "code",
   "execution_count": 28,
   "id": "fe9e4bcd",
   "metadata": {},
   "outputs": [],
   "source": [
    "from pinecone.grpc import PineconeGRPC as Pinecone\n",
    "from pinecone import ServerlessSpec\n",
    "import os\n",
    "\n",
    "# pc = Pinecone)  # Replace with your actual Pinecone API key\n",
    "\n",
    "index_name = \"pregwellbot\"\n",
    "\n",
    "# pc.create_index(\n",
    "#     name=index_name,\n",
    "#     dimension=384,  # Dimension of the embeddings\n",
    "#     metric=\"cosine\",  # Similarity metric\n",
    "#     spec=ServerlessSpec(\n",
    "#         cloud=\"aws\",\n",
    "#         region=\"us-east-1\",  # Replace with your desired region\n",
    "#     )\n",
    "# )"
   ]
  },
  {
   "cell_type": "code",
   "execution_count": 29,
   "id": "0f3a16b3",
   "metadata": {},
   "outputs": [],
   "source": [
    "import os\n",
    "os.environ[\"PINECONE_API_KEY\"] = PINECONE_API_KEY\n",
    "os.environ[\"OPENAI_API_KEY\"] = OPENAI_API_KEY  "
   ]
  },
  {
   "cell_type": "code",
   "execution_count": 30,
   "id": "d984ab67",
   "metadata": {},
   "outputs": [],
   "source": [
    "#embed each chunk and upsert the embeddings into your Pinecone index.\n",
    "from langchain_pinecone import PineconeVectorStore\n",
    "\n",
    "docsearch = PineconeVectorStore.from_documents(\n",
    "    documents=text_chunks,\n",
    "    index_name=index_name,\n",
    "    embedding=embeddings,\n",
    ")\n"
   ]
  },
  {
   "cell_type": "code",
   "execution_count": 33,
   "id": "edfdeea7",
   "metadata": {},
   "outputs": [],
   "source": [
    "# load Existing Index\n",
    "\n",
    "from langchain_pinecone import PineconeVectorStore\n",
    "# Embed eqch chunk and upsert the embeddings into your Pinecone index.\n",
    "docsearch = PineconeVectorStore.from_existing_index(\n",
    "    index_name=index_name,\n",
    "    embedding=embeddings,\n",
    ")"
   ]
  },
  {
   "cell_type": "code",
   "execution_count": 34,
   "id": "377dd3a5",
   "metadata": {},
   "outputs": [
    {
     "data": {
      "text/plain": [
       "<langchain_pinecone.vectorstores.PineconeVectorStore at 0x2499f969510>"
      ]
     },
     "execution_count": 34,
     "metadata": {},
     "output_type": "execute_result"
    }
   ],
   "source": [
    "docsearch "
   ]
  },
  {
   "cell_type": "code",
   "execution_count": 35,
   "id": "9591d699",
   "metadata": {},
   "outputs": [],
   "source": [
    "retriever = docsearch.as_retriever(\n",
    "    search_type=\"similarity\",\n",
    "    search_kwargs={\n",
    "        \"k\": 3,  # Number of similar documents to retrieve\n",
    "    }\n",
    ")\n"
   ]
  },
  {
   "cell_type": "code",
   "execution_count": 36,
   "id": "e386c616",
   "metadata": {},
   "outputs": [],
   "source": [
    "retrived_docs = retriever.invoke(\"What is Hepatitis B?\")"
   ]
  },
  {
   "cell_type": "code",
   "execution_count": 37,
   "id": "6d7d2696",
   "metadata": {},
   "outputs": [
    {
     "data": {
      "text/plain": [
       "[Document(id='b9287bb3-f752-4594-8eac-d8274c2ad239', metadata={'creationdate': '2013-11-25T12:51:17+00:00', 'creator': 'PyPDF', 'moddate': '2013-11-25T12:51:17+00:00', 'page': 38.0, 'page_label': '37', 'producer': 'PyPDF', 'source': 'Data\\\\Pregnancy_Book_comp.pdf', 'total_pages': 196.0}, page_content='Hepatitis B\\nHepatitis B is a virus that infects the \\nliver. Many people with hepatitis B, \\nwill have no signs of illness, but \\nthey might infect others. If you \\nhave hepatitis B, or are infected \\nduring pregnancy, you can pass \\nthe infection to your baby at birth. \\nYou will be offered a blood test for \\nhepatitis B as part of your antenatal \\ncare (see page 47). Babies who \\nare at risk should be immunised \\nat birth. This is 90–95% effective \\nin preventing them from getting'),\n",
       " Document(id='61fafaab-b020-4982-a5d2-cad584ddabad', metadata={'creationdate': '2013-11-25T12:51:17+00:00', 'creator': 'PyPDF', 'moddate': '2013-11-25T12:51:17+00:00', 'page': 38.0, 'page_label': '37', 'producer': 'PyPDF', 'source': 'Data\\\\Pregnancy_Book_comp.pdf', 'total_pages': 196.0}, page_content='Hepatitis B\\nHepatitis B is a virus that infects the \\nliver. Many people with hepatitis B, \\nwill have no signs of illness, but \\nthey might infect others. If you \\nhave hepatitis B, or are infected \\nduring pregnancy, you can pass \\nthe infection to your baby at birth. \\nYou will be offered a blood test for \\nhepatitis B as part of your antenatal \\ncare (see page 47). Babies who \\nare at risk should be immunised \\nat birth. This is 90–95% effective \\nin preventing them from getting'),\n",
       " Document(id='fb212a23-c62f-46be-9d3a-a4a8a479c11a', metadata={'creationdate': '2013-11-25T12:51:17+00:00', 'creator': 'PyPDF', 'moddate': '2013-11-25T12:51:17+00:00', 'page': 38.0, 'page_label': '37', 'producer': 'PyPDF', 'source': 'Data\\\\Pregnancy_Book_comp.pdf', 'total_pages': 196.0}, page_content='Hepatitis B\\nHepatitis B is a virus that infects the \\nliver. Many people with hepatitis B, \\nwill have no signs of illness, but \\nthey might infect others. If you \\nhave hepatitis B, or are infected \\nduring pregnancy, you can pass \\nthe infection to your baby at birth. \\nYou will be offered a blood test for \\nhepatitis B as part of your antenatal \\ncare (see page 47). Babies who \\nare at risk should be immunised \\nat birth. This is 90–95% effective \\nin preventing them from getting')]"
      ]
     },
     "execution_count": 37,
     "metadata": {},
     "output_type": "execute_result"
    }
   ],
   "source": [
    "retrived_docs"
   ]
  },
  {
   "cell_type": "code",
   "execution_count": 45,
   "id": "48781c1f",
   "metadata": {},
   "outputs": [],
   "source": [
    "from langchain_openai import ChatOpenAI\n",
    "\n",
    "llm = ChatOpenAI(\n",
    "    model=\"gpt-4o\",           # or \n",
    "    temperature=0.4,\n",
    "    max_tokens=500\n",
    ")\n"
   ]
  },
  {
   "cell_type": "code",
   "execution_count": 51,
   "id": "d7dcd919",
   "metadata": {},
   "outputs": [],
   "source": [
    "from langchain.chains import create_retrieval_chain\n",
    "from langchain.chains.combine_documents import create_stuff_documents_chain\n",
    "from langchain_core.prompts import ChatPromptTemplate\n",
    "\n",
    "\n",
    "system_prompt = (\n",
    "    \"You are a helpful assistant specialized in answering questions strictly related to health and pregnancy. \"\n",
    "    \"Use the following retrieved context to answer the user's question. \"\n",
    "    \"If the question is not related to pregnancy or maternal health, respond with: \"\n",
    "    \"'Apologies, but I can only provide assistance on matters concerning health and pregnancy.' \"\n",
    "    \"Keep your answers concise and limited to a maximum of three sentences.\\n\\n\"\n",
    "    \"{context}\"\n",
    ")\n",
    "\n",
    "\n",
    "prompt = ChatPromptTemplate.from_messages(\n",
    "    [\n",
    "        (\"system\", system_prompt),\n",
    "        (\"human\", \"{input}\"),\n",
    "    ]\n",
    ")"
   ]
  },
  {
   "cell_type": "code",
   "execution_count": 53,
   "id": "11a46091",
   "metadata": {},
   "outputs": [],
   "source": [
    "question_answer_chain = create_stuff_documents_chain(llm,prompt)\n",
    "rag_chain = create_retrieval_chain(\n",
    "    retriever, question_answer_chain\n",
    ")"
   ]
  },
  {
   "cell_type": "code",
   "execution_count": 49,
   "id": "9e5c78f8",
   "metadata": {},
   "outputs": [
    {
     "name": "stdout",
     "output_type": "stream",
     "text": [
      "Hepatitis B is a virus that infects the liver. Many people with hepatitis B may show no signs of illness but can still infect others. It can be transmitted from an infected mother to her baby at birth, and babies at risk should be immunized at birth to prevent infection.\n"
     ]
    }
   ],
   "source": [
    "response = rag_chain.invoke({\"input\": \"What is Hepatitis B?\"})\n",
    "print(response[\"answer\"]) "
   ]
  },
  {
   "cell_type": "code",
   "execution_count": 54,
   "id": "182d6e22",
   "metadata": {},
   "outputs": [
    {
     "name": "stdout",
     "output_type": "stream",
     "text": [
      "Apologies, but I can only provide assistance on matters concerning health and pregnancy.\n"
     ]
    }
   ],
   "source": [
    "response = rag_chain.invoke({\"input\": \"What is chelsea?\"})\n",
    "print(response[\"answer\"]) "
   ]
  },
  {
   "cell_type": "code",
   "execution_count": null,
   "id": "9fb4e036",
   "metadata": {},
   "outputs": [],
   "source": []
  }
 ],
 "metadata": {
  "kernelspec": {
   "display_name": "pregwell",
   "language": "python",
   "name": "python3"
  },
  "language_info": {
   "codemirror_mode": {
    "name": "ipython",
    "version": 3
   },
   "file_extension": ".py",
   "mimetype": "text/x-python",
   "name": "python",
   "nbconvert_exporter": "python",
   "pygments_lexer": "ipython3",
   "version": "3.10.18"
  }
 },
 "nbformat": 4,
 "nbformat_minor": 5
}
